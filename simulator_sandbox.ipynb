{
 "cells": [
  {
   "cell_type": "code",
   "execution_count": null,
   "metadata": {},
   "outputs": [],
   "source": [
    "from dataclasses import dataclass\n",
    "import biosimulators_utils \n",
    "\n",
    "\n",
    "@dataclass \n",
    "class UtcSimulationSetup:\n",
    "    xml_path: str \n",
    "    init_time: float \n",
    "    start: float \n",
    "    end: float \n",
    "    num_timesteps: int\n",
    "\n"
   ]
  }
 ],
 "metadata": {
  "language_info": {
   "name": "python"
  },
  "orig_nbformat": 4
 },
 "nbformat": 4,
 "nbformat_minor": 2
}
